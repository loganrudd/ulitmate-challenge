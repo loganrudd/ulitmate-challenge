{
 "cells": [
  {
   "cell_type": "markdown",
   "metadata": {},
   "source": [
    "# Part 3 ‐ Predictive modeling\n",
    "\n",
    "Ultimate is interested in predicting rider retention. To help explore this question, we have provided a sample dataset of a cohort of users who signed up for an Ultimate account in January 2014. The data was pulled several months later; we consider a user retained if they were “active” (i.e. took a trip) in the preceding 30 days. We would like you to use this data set to help understand what factors are the best predictors for retention, and offer suggestions to operationalize those insights to help Ultimate. The data is in the attached file ultimate_data_challenge.json. See below for a detailed description of the dataset. Please include any code you wrote for the analysis and delete the dataset when you have finished with the challenge.\n",
    "\n",
    "###### 1. Perform any cleaning, exploratory analysis, and/or visualizations to use the provided data for this analysis (a few sentences/plots describing your approach will suffice). What fraction of the observed users were retained?"
   ]
  },
  {
   "cell_type": "code",
   "execution_count": 63,
   "metadata": {},
   "outputs": [],
   "source": [
    "import json\n",
    "import pandas as pd\n",
    "from pandas.io.json import json_normalize\n",
    "import numpy as np\n",
    "import seaborn as sns\n",
    "import matplotlib.pyplot as plt\n",
    "import datetime as dt\n",
    "import time\n",
    "import itertools\n",
    "from sklearn.model_selection import train_test_split, GridSearchCV, RandomizedSearchCV\n",
    "from sklearn.preprocessing import StandardScaler, LabelBinarizer\n",
    "from sklearn.impute import SimpleImputer\n",
    "from sklearn.pipeline import Pipeline\n",
    "from sklearn.linear_model import LogisticRegression\n",
    "from sklearn.model_selection import cross_val_score\n",
    "from sklearn.metrics import confusion_matrix, balanced_accuracy_score\n",
    "from sklearn.svm import SVC\n",
    "from xgboost import plot_importance\n",
    "from xgboost import XGBClassifier"
   ]
  },
  {
   "cell_type": "code",
   "execution_count": 2,
   "metadata": {},
   "outputs": [
    {
     "name": "stdout",
     "output_type": "stream",
     "text": [
      "<class 'pandas.core.frame.DataFrame'>\n",
      "RangeIndex: 50000 entries, 0 to 49999\n",
      "Data columns (total 12 columns):\n",
      "avg_dist                  50000 non-null float64\n",
      "avg_rating_by_driver      49799 non-null float64\n",
      "avg_rating_of_driver      41878 non-null float64\n",
      "avg_surge                 50000 non-null float64\n",
      "city                      50000 non-null object\n",
      "last_trip_date            50000 non-null object\n",
      "phone                     49604 non-null object\n",
      "signup_date               50000 non-null object\n",
      "surge_pct                 50000 non-null float64\n",
      "trips_in_first_30_days    50000 non-null int64\n",
      "ultimate_black_user       50000 non-null bool\n",
      "weekday_pct               50000 non-null float64\n",
      "dtypes: bool(1), float64(6), int64(1), object(4)\n",
      "memory usage: 4.2+ MB\n",
      "None\n"
     ]
    },
    {
     "data": {
      "text/html": [
       "<div>\n",
       "<style scoped>\n",
       "    .dataframe tbody tr th:only-of-type {\n",
       "        vertical-align: middle;\n",
       "    }\n",
       "\n",
       "    .dataframe tbody tr th {\n",
       "        vertical-align: top;\n",
       "    }\n",
       "\n",
       "    .dataframe thead th {\n",
       "        text-align: right;\n",
       "    }\n",
       "</style>\n",
       "<table border=\"1\" class=\"dataframe\">\n",
       "  <thead>\n",
       "    <tr style=\"text-align: right;\">\n",
       "      <th></th>\n",
       "      <th>avg_dist</th>\n",
       "      <th>avg_rating_by_driver</th>\n",
       "      <th>avg_rating_of_driver</th>\n",
       "      <th>avg_surge</th>\n",
       "      <th>city</th>\n",
       "      <th>last_trip_date</th>\n",
       "      <th>phone</th>\n",
       "      <th>signup_date</th>\n",
       "      <th>surge_pct</th>\n",
       "      <th>trips_in_first_30_days</th>\n",
       "      <th>ultimate_black_user</th>\n",
       "      <th>weekday_pct</th>\n",
       "    </tr>\n",
       "  </thead>\n",
       "  <tbody>\n",
       "    <tr>\n",
       "      <th>0</th>\n",
       "      <td>3.67</td>\n",
       "      <td>5.0</td>\n",
       "      <td>4.7</td>\n",
       "      <td>1.10</td>\n",
       "      <td>King's Landing</td>\n",
       "      <td>2014-06-17</td>\n",
       "      <td>iPhone</td>\n",
       "      <td>2014-01-25</td>\n",
       "      <td>15.4</td>\n",
       "      <td>4</td>\n",
       "      <td>True</td>\n",
       "      <td>46.2</td>\n",
       "    </tr>\n",
       "    <tr>\n",
       "      <th>1</th>\n",
       "      <td>8.26</td>\n",
       "      <td>5.0</td>\n",
       "      <td>5.0</td>\n",
       "      <td>1.00</td>\n",
       "      <td>Astapor</td>\n",
       "      <td>2014-05-05</td>\n",
       "      <td>Android</td>\n",
       "      <td>2014-01-29</td>\n",
       "      <td>0.0</td>\n",
       "      <td>0</td>\n",
       "      <td>False</td>\n",
       "      <td>50.0</td>\n",
       "    </tr>\n",
       "    <tr>\n",
       "      <th>2</th>\n",
       "      <td>0.77</td>\n",
       "      <td>5.0</td>\n",
       "      <td>4.3</td>\n",
       "      <td>1.00</td>\n",
       "      <td>Astapor</td>\n",
       "      <td>2014-01-07</td>\n",
       "      <td>iPhone</td>\n",
       "      <td>2014-01-06</td>\n",
       "      <td>0.0</td>\n",
       "      <td>3</td>\n",
       "      <td>False</td>\n",
       "      <td>100.0</td>\n",
       "    </tr>\n",
       "    <tr>\n",
       "      <th>3</th>\n",
       "      <td>2.36</td>\n",
       "      <td>4.9</td>\n",
       "      <td>4.6</td>\n",
       "      <td>1.14</td>\n",
       "      <td>King's Landing</td>\n",
       "      <td>2014-06-29</td>\n",
       "      <td>iPhone</td>\n",
       "      <td>2014-01-10</td>\n",
       "      <td>20.0</td>\n",
       "      <td>9</td>\n",
       "      <td>True</td>\n",
       "      <td>80.0</td>\n",
       "    </tr>\n",
       "    <tr>\n",
       "      <th>4</th>\n",
       "      <td>3.13</td>\n",
       "      <td>4.9</td>\n",
       "      <td>4.4</td>\n",
       "      <td>1.19</td>\n",
       "      <td>Winterfell</td>\n",
       "      <td>2014-03-15</td>\n",
       "      <td>Android</td>\n",
       "      <td>2014-01-27</td>\n",
       "      <td>11.8</td>\n",
       "      <td>14</td>\n",
       "      <td>False</td>\n",
       "      <td>82.4</td>\n",
       "    </tr>\n",
       "  </tbody>\n",
       "</table>\n",
       "</div>"
      ],
      "text/plain": [
       "   avg_dist  avg_rating_by_driver  avg_rating_of_driver  avg_surge  \\\n",
       "0      3.67                   5.0                   4.7       1.10   \n",
       "1      8.26                   5.0                   5.0       1.00   \n",
       "2      0.77                   5.0                   4.3       1.00   \n",
       "3      2.36                   4.9                   4.6       1.14   \n",
       "4      3.13                   4.9                   4.4       1.19   \n",
       "\n",
       "             city last_trip_date    phone signup_date  surge_pct  \\\n",
       "0  King's Landing     2014-06-17   iPhone  2014-01-25       15.4   \n",
       "1         Astapor     2014-05-05  Android  2014-01-29        0.0   \n",
       "2         Astapor     2014-01-07   iPhone  2014-01-06        0.0   \n",
       "3  King's Landing     2014-06-29   iPhone  2014-01-10       20.0   \n",
       "4      Winterfell     2014-03-15  Android  2014-01-27       11.8   \n",
       "\n",
       "   trips_in_first_30_days  ultimate_black_user  weekday_pct  \n",
       "0                       4                 True         46.2  \n",
       "1                       0                False         50.0  \n",
       "2                       3                False        100.0  \n",
       "3                       9                 True         80.0  \n",
       "4                      14                False         82.4  "
      ]
     },
     "execution_count": 2,
     "metadata": {},
     "output_type": "execute_result"
    }
   ],
   "source": [
    "json_users = json.load((open('ultimate_data_challenge.json')))\n",
    "df_users = json_normalize(json_users)\n",
    "print(df_users.info())\n",
    "df_users.head()"
   ]
  },
  {
   "cell_type": "markdown",
   "metadata": {},
   "source": [
    "Looks like the data is pretty clean. Let's first determine which users are retained, then let's explore some of the features to see if we can reveal any insights."
   ]
  },
  {
   "cell_type": "code",
   "execution_count": 3,
   "metadata": {},
   "outputs": [],
   "source": [
    "df_users['retained'] = [date > '2014-06-01' for date in df_users.last_trip_date]"
   ]
  },
  {
   "cell_type": "code",
   "execution_count": 4,
   "metadata": {},
   "outputs": [
    {
     "name": "stdout",
     "output_type": "stream",
     "text": [
      "Fraction of observed users retained: 0.58\n"
     ]
    }
   ],
   "source": [
    "frac_retained = df_users.retained.value_counts()[1]/df_users.retained.value_counts()[0]\n",
    "print('Fraction of observed users retained: {:.2f}'.format(frac_retained))"
   ]
  },
  {
   "cell_type": "markdown",
   "metadata": {},
   "source": [
    "Let's take a look at retained users by city and phone just out of curiosity."
   ]
  },
  {
   "cell_type": "code",
   "execution_count": 5,
   "metadata": {},
   "outputs": [
    {
     "data": {
      "image/png": "[encoded data removed]",
      "text/plain": [
       "<Figure size 1080x576 with 1 Axes>"
      ]
     },
     "metadata": {
      "needs_background": "light"
     },
     "output_type": "display_data"
    }
   ],
   "source": [
    "ax = df_users.groupby(['retained'])['city'].value_counts().unstack(0).plot.barh(figsize=(15,8),\n",
    "                                                                                   width=0.5,\n",
    "                                                                                   color=['#d9534f', '#5bc0de'],\n",
    "                                                                                   fontsize=14)\n",
    "\n",
    "plt.legend(fontsize=14)\n",
    "plt.title(\"Retained Users by City\",\n",
    "         fontsize=16)\n",
    "\n",
    "# set individual bar lables using above list\n",
    "for i in ax.patches:\n",
    "    # get_x pulls left or right; get_height pushes up or down\n",
    "    ax.text(i.get_width(), i.get_y()+.075, \\\n",
    "            str(int(i.get_width())), fontsize=15,\n",
    "                color='dimgrey', clip_on=True)\n",
    "\n",
    "ax.set_xlabel('Number of Users')\n",
    "ax.spines['top'].set_visible(False)\n",
    "ax.spines['right'].set_visible(False)\n",
    "ax.spines['left'].set_visible(False)"
   ]
  },
  {
   "cell_type": "code",
   "execution_count": 6,
   "metadata": {},
   "outputs": [
    {
     "data": {
      "image/png": "[encoded data removed]",
      "text/plain": [
       "<Figure size 1080x576 with 1 Axes>"
      ]
     },
     "metadata": {
      "needs_background": "light"
     },
     "output_type": "display_data"
    }
   ],
   "source": [
    "ax = df_users.groupby(['retained'])['phone'].value_counts().unstack(0).plot.barh(figsize=(15,8),\n",
    "                                                                                   width=0.5,\n",
    "                                                                                   color=['#d9534f', '#5bc0de'],\n",
    "                                                                                   fontsize=14)\n",
    "\n",
    "plt.legend(fontsize=14)\n",
    "plt.title(\"Retained Users by Phone\",\n",
    "         fontsize=16)\n",
    "\n",
    "# set individual bar lables using above list\n",
    "for i in ax.patches:\n",
    "    # get_x pulls left or right; get_height pushes up or down\n",
    "    ax.text(i.get_width(), i.get_y()+.075, \\\n",
    "            str(int(i.get_width())), fontsize=15,\n",
    "                color='dimgrey', clip_on=True)\n",
    "\n",
    "ax.set_xlabel('Number of Users')\n",
    "ax.spines['top'].set_visible(False)\n",
    "ax.spines['right'].set_visible(False)\n",
    "ax.spines['left'].set_visible(False)"
   ]
  },
  {
   "cell_type": "code",
   "execution_count": 7,
   "metadata": {},
   "outputs": [
    {
     "data": {
      "image/png": "[encoded data removed]",
      "text/plain": [
       "<Figure size 1080x576 with 1 Axes>"
      ]
     },
     "metadata": {
      "needs_background": "light"
     },
     "output_type": "display_data"
    }
   ],
   "source": [
    "ax = df_users.groupby(['retained'])['ultimate_black_user'].value_counts().unstack(0).plot.barh(figsize=(15,8),\n",
    "                                                                                   width=0.5,\n",
    "                                                                                   color=['#d9534f', '#5bc0de'],\n",
    "                                                                                   fontsize=14)\n",
    "\n",
    "plt.legend(fontsize=14)\n",
    "plt.title(\"Retained Users by Ultimate Black User\",\n",
    "         fontsize=16)\n",
    "\n",
    "# set individual bar lables using above list\n",
    "for i in ax.patches:\n",
    "    # get_x pulls left or right; get_height pushes up or down\n",
    "    ax.text(i.get_width(), i.get_y()+.075, \\\n",
    "            str(int(i.get_width())), fontsize=15,\n",
    "                color='dimgrey', clip_on=True)\n",
    "\n",
    "ax.set_xlabel('Number of Users')\n",
    "ax.spines['top'].set_visible(False)\n",
    "ax.spines['right'].set_visible(False)\n",
    "ax.spines['left'].set_visible(False)"
   ]
  },
  {
   "cell_type": "markdown",
   "metadata": {},
   "source": [
    "Looks like users in King's Landing are more likely to be retained than any other city, and iPhone users are more likely to be retained than Android users. In addition, looks like Ultimate Black Users are more likely to be retained than Ultimate Black non-users."
   ]
  },
  {
   "cell_type": "markdown",
   "metadata": {},
   "source": [
    "###### 2. Build a predictive model to help Ultimate determine whether or not a user will be active in their 6th month on the system. Discuss why you chose your approach, what alternatives you considered, and any concerns you have. How valid is your model? Include any key indicators of model performance.\n",
    "    \n",
    "First let's determine all observed users who have been active for at least 5 months and 1 day to determine if they are still active in their 6th month. For our purposes we will consider each month to have the monthly average of 30.4 days. Therefore, any user that is still active after $30.4 * 5 = 152$ days of creating their account will be considered active in their 6th month."
   ]
  },
  {
   "cell_type": "code",
   "execution_count": 10,
   "metadata": {},
   "outputs": [],
   "source": [
    "sixth_month_active = [(pd.to_datetime(df_users.last_trip_date.iloc[i]) \\\n",
    "                       - pd.to_datetime(df_users.signup_date.iloc[i])).days > 152 for i in range(len(df_users))]"
   ]
  },
  {
   "cell_type": "code",
   "execution_count": 11,
   "metadata": {},
   "outputs": [
    {
     "data": {
      "text/html": [
       "<div>\n",
       "<style scoped>\n",
       "    .dataframe tbody tr th:only-of-type {\n",
       "        vertical-align: middle;\n",
       "    }\n",
       "\n",
       "    .dataframe tbody tr th {\n",
       "        vertical-align: top;\n",
       "    }\n",
       "\n",
       "    .dataframe thead th {\n",
       "        text-align: right;\n",
       "    }\n",
       "</style>\n",
       "<table border=\"1\" class=\"dataframe\">\n",
       "  <thead>\n",
       "    <tr style=\"text-align: right;\">\n",
       "      <th></th>\n",
       "      <th>avg_dist</th>\n",
       "      <th>avg_rating_by_driver</th>\n",
       "      <th>avg_rating_of_driver</th>\n",
       "      <th>avg_surge</th>\n",
       "      <th>city</th>\n",
       "      <th>last_trip_date</th>\n",
       "      <th>phone</th>\n",
       "      <th>signup_date</th>\n",
       "      <th>surge_pct</th>\n",
       "      <th>trips_in_first_30_days</th>\n",
       "      <th>ultimate_black_user</th>\n",
       "      <th>weekday_pct</th>\n",
       "      <th>retained</th>\n",
       "      <th>sixth_month_active</th>\n",
       "    </tr>\n",
       "  </thead>\n",
       "  <tbody>\n",
       "    <tr>\n",
       "      <th>0</th>\n",
       "      <td>3.67</td>\n",
       "      <td>5.0</td>\n",
       "      <td>4.7</td>\n",
       "      <td>1.10</td>\n",
       "      <td>King's Landing</td>\n",
       "      <td>2014-06-17</td>\n",
       "      <td>iPhone</td>\n",
       "      <td>2014-01-25</td>\n",
       "      <td>15.4</td>\n",
       "      <td>4</td>\n",
       "      <td>True</td>\n",
       "      <td>46.2</td>\n",
       "      <td>True</td>\n",
       "      <td>False</td>\n",
       "    </tr>\n",
       "    <tr>\n",
       "      <th>1</th>\n",
       "      <td>8.26</td>\n",
       "      <td>5.0</td>\n",
       "      <td>5.0</td>\n",
       "      <td>1.00</td>\n",
       "      <td>Astapor</td>\n",
       "      <td>2014-05-05</td>\n",
       "      <td>Android</td>\n",
       "      <td>2014-01-29</td>\n",
       "      <td>0.0</td>\n",
       "      <td>0</td>\n",
       "      <td>False</td>\n",
       "      <td>50.0</td>\n",
       "      <td>False</td>\n",
       "      <td>False</td>\n",
       "    </tr>\n",
       "    <tr>\n",
       "      <th>2</th>\n",
       "      <td>0.77</td>\n",
       "      <td>5.0</td>\n",
       "      <td>4.3</td>\n",
       "      <td>1.00</td>\n",
       "      <td>Astapor</td>\n",
       "      <td>2014-01-07</td>\n",
       "      <td>iPhone</td>\n",
       "      <td>2014-01-06</td>\n",
       "      <td>0.0</td>\n",
       "      <td>3</td>\n",
       "      <td>False</td>\n",
       "      <td>100.0</td>\n",
       "      <td>False</td>\n",
       "      <td>False</td>\n",
       "    </tr>\n",
       "    <tr>\n",
       "      <th>3</th>\n",
       "      <td>2.36</td>\n",
       "      <td>4.9</td>\n",
       "      <td>4.6</td>\n",
       "      <td>1.14</td>\n",
       "      <td>King's Landing</td>\n",
       "      <td>2014-06-29</td>\n",
       "      <td>iPhone</td>\n",
       "      <td>2014-01-10</td>\n",
       "      <td>20.0</td>\n",
       "      <td>9</td>\n",
       "      <td>True</td>\n",
       "      <td>80.0</td>\n",
       "      <td>True</td>\n",
       "      <td>True</td>\n",
       "    </tr>\n",
       "    <tr>\n",
       "      <th>4</th>\n",
       "      <td>3.13</td>\n",
       "      <td>4.9</td>\n",
       "      <td>4.4</td>\n",
       "      <td>1.19</td>\n",
       "      <td>Winterfell</td>\n",
       "      <td>2014-03-15</td>\n",
       "      <td>Android</td>\n",
       "      <td>2014-01-27</td>\n",
       "      <td>11.8</td>\n",
       "      <td>14</td>\n",
       "      <td>False</td>\n",
       "      <td>82.4</td>\n",
       "      <td>False</td>\n",
       "      <td>False</td>\n",
       "    </tr>\n",
       "  </tbody>\n",
       "</table>\n",
       "</div>"
      ],
      "text/plain": [
       "   avg_dist  avg_rating_by_driver  avg_rating_of_driver  avg_surge  \\\n",
       "0      3.67                   5.0                   4.7       1.10   \n",
       "1      8.26                   5.0                   5.0       1.00   \n",
       "2      0.77                   5.0                   4.3       1.00   \n",
       "3      2.36                   4.9                   4.6       1.14   \n",
       "4      3.13                   4.9                   4.4       1.19   \n",
       "\n",
       "             city last_trip_date    phone signup_date  surge_pct  \\\n",
       "0  King's Landing     2014-06-17   iPhone  2014-01-25       15.4   \n",
       "1         Astapor     2014-05-05  Android  2014-01-29        0.0   \n",
       "2         Astapor     2014-01-07   iPhone  2014-01-06        0.0   \n",
       "3  King's Landing     2014-06-29   iPhone  2014-01-10       20.0   \n",
       "4      Winterfell     2014-03-15  Android  2014-01-27       11.8   \n",
       "\n",
       "   trips_in_first_30_days  ultimate_black_user  weekday_pct  retained  \\\n",
       "0                       4                 True         46.2      True   \n",
       "1                       0                False         50.0     False   \n",
       "2                       3                False        100.0     False   \n",
       "3                       9                 True         80.0      True   \n",
       "4                      14                False         82.4     False   \n",
       "\n",
       "   sixth_month_active  \n",
       "0               False  \n",
       "1               False  \n",
       "2               False  \n",
       "3                True  \n",
       "4               False  "
      ]
     },
     "execution_count": 11,
     "metadata": {},
     "output_type": "execute_result"
    }
   ],
   "source": [
    "df_users['sixth_month_active'] = sixth_month_active\n",
    "df_users.head()"
   ]
  },
  {
   "cell_type": "code",
   "execution_count": 62,
   "metadata": {},
   "outputs": [
    {
     "data": {
      "text/plain": [
       "False    38806\n",
       "True     11194\n",
       "Name: sixth_month_active, dtype: int64"
      ]
     },
     "execution_count": 62,
     "metadata": {},
     "output_type": "execute_result"
    }
   ],
   "source": [
    "df_users['sixth_month_active'].value_counts()"
   ]
  },
  {
   "cell_type": "code",
   "execution_count": 12,
   "metadata": {},
   "outputs": [],
   "source": [
    "df_users_train, df_users_test = train_test_split(df_users, test_size=0.2, random_state=4)"
   ]
  },
  {
   "cell_type": "markdown",
   "metadata": {},
   "source": [
    "Now let's one hot encode the categorical columns and then use Sklearn's ExtraTreesClassifier to calculate feature importances then we'll move on to feature selection and model building."
   ]
  },
  {
   "cell_type": "code",
   "execution_count": 13,
   "metadata": {},
   "outputs": [
    {
     "data": {
      "text/html": [
       "<div>\n",
       "<style scoped>\n",
       "    .dataframe tbody tr th:only-of-type {\n",
       "        vertical-align: middle;\n",
       "    }\n",
       "\n",
       "    .dataframe tbody tr th {\n",
       "        vertical-align: top;\n",
       "    }\n",
       "\n",
       "    .dataframe thead th {\n",
       "        text-align: right;\n",
       "    }\n",
       "</style>\n",
       "<table border=\"1\" class=\"dataframe\">\n",
       "  <thead>\n",
       "    <tr style=\"text-align: right;\">\n",
       "      <th></th>\n",
       "      <th>avg_dist</th>\n",
       "      <th>avg_rating_by_driver</th>\n",
       "      <th>avg_rating_of_driver</th>\n",
       "      <th>avg_surge</th>\n",
       "      <th>city</th>\n",
       "      <th>last_trip_date</th>\n",
       "      <th>phone</th>\n",
       "      <th>signup_date</th>\n",
       "      <th>surge_pct</th>\n",
       "      <th>trips_in_first_30_days</th>\n",
       "      <th>ultimate_black_user</th>\n",
       "      <th>weekday_pct</th>\n",
       "      <th>retained</th>\n",
       "      <th>sixth_month_active</th>\n",
       "      <th>Astapor</th>\n",
       "      <th>King's Landing</th>\n",
       "      <th>Winterfell</th>\n",
       "      <th>Android</th>\n",
       "      <th>iPhone</th>\n",
       "    </tr>\n",
       "  </thead>\n",
       "  <tbody>\n",
       "    <tr>\n",
       "      <th>16880</th>\n",
       "      <td>7.59</td>\n",
       "      <td>5.0</td>\n",
       "      <td>5.0</td>\n",
       "      <td>1.00</td>\n",
       "      <td>King's Landing</td>\n",
       "      <td>2014-02-02</td>\n",
       "      <td>iPhone</td>\n",
       "      <td>2014-01-30</td>\n",
       "      <td>0.0</td>\n",
       "      <td>2</td>\n",
       "      <td>0</td>\n",
       "      <td>50.0</td>\n",
       "      <td>False</td>\n",
       "      <td>0</td>\n",
       "      <td>0</td>\n",
       "      <td>1</td>\n",
       "      <td>0</td>\n",
       "      <td>0</td>\n",
       "      <td>1</td>\n",
       "    </tr>\n",
       "    <tr>\n",
       "      <th>18337</th>\n",
       "      <td>8.09</td>\n",
       "      <td>5.0</td>\n",
       "      <td>4.8</td>\n",
       "      <td>1.02</td>\n",
       "      <td>Astapor</td>\n",
       "      <td>2014-06-29</td>\n",
       "      <td>iPhone</td>\n",
       "      <td>2014-01-10</td>\n",
       "      <td>8.3</td>\n",
       "      <td>2</td>\n",
       "      <td>0</td>\n",
       "      <td>75.0</td>\n",
       "      <td>True</td>\n",
       "      <td>1</td>\n",
       "      <td>1</td>\n",
       "      <td>0</td>\n",
       "      <td>0</td>\n",
       "      <td>0</td>\n",
       "      <td>1</td>\n",
       "    </tr>\n",
       "    <tr>\n",
       "      <th>11170</th>\n",
       "      <td>2.17</td>\n",
       "      <td>3.0</td>\n",
       "      <td>4.0</td>\n",
       "      <td>1.00</td>\n",
       "      <td>Astapor</td>\n",
       "      <td>2014-03-02</td>\n",
       "      <td>iPhone</td>\n",
       "      <td>2014-01-13</td>\n",
       "      <td>0.0</td>\n",
       "      <td>0</td>\n",
       "      <td>0</td>\n",
       "      <td>0.0</td>\n",
       "      <td>False</td>\n",
       "      <td>0</td>\n",
       "      <td>1</td>\n",
       "      <td>0</td>\n",
       "      <td>0</td>\n",
       "      <td>0</td>\n",
       "      <td>1</td>\n",
       "    </tr>\n",
       "    <tr>\n",
       "      <th>17714</th>\n",
       "      <td>1.99</td>\n",
       "      <td>4.7</td>\n",
       "      <td>5.0</td>\n",
       "      <td>1.00</td>\n",
       "      <td>Winterfell</td>\n",
       "      <td>2014-03-16</td>\n",
       "      <td>iPhone</td>\n",
       "      <td>2014-01-29</td>\n",
       "      <td>0.0</td>\n",
       "      <td>2</td>\n",
       "      <td>0</td>\n",
       "      <td>66.7</td>\n",
       "      <td>False</td>\n",
       "      <td>0</td>\n",
       "      <td>0</td>\n",
       "      <td>0</td>\n",
       "      <td>1</td>\n",
       "      <td>0</td>\n",
       "      <td>1</td>\n",
       "    </tr>\n",
       "    <tr>\n",
       "      <th>28539</th>\n",
       "      <td>10.35</td>\n",
       "      <td>2.0</td>\n",
       "      <td>NaN</td>\n",
       "      <td>1.00</td>\n",
       "      <td>Winterfell</td>\n",
       "      <td>2014-02-09</td>\n",
       "      <td>iPhone</td>\n",
       "      <td>2014-01-05</td>\n",
       "      <td>0.0</td>\n",
       "      <td>0</td>\n",
       "      <td>0</td>\n",
       "      <td>0.0</td>\n",
       "      <td>False</td>\n",
       "      <td>0</td>\n",
       "      <td>0</td>\n",
       "      <td>0</td>\n",
       "      <td>1</td>\n",
       "      <td>0</td>\n",
       "      <td>1</td>\n",
       "    </tr>\n",
       "  </tbody>\n",
       "</table>\n",
       "</div>"
      ],
      "text/plain": [
       "       avg_dist  avg_rating_by_driver  avg_rating_of_driver  avg_surge  \\\n",
       "16880      7.59                   5.0                   5.0       1.00   \n",
       "18337      8.09                   5.0                   4.8       1.02   \n",
       "11170      2.17                   3.0                   4.0       1.00   \n",
       "17714      1.99                   4.7                   5.0       1.00   \n",
       "28539     10.35                   2.0                   NaN       1.00   \n",
       "\n",
       "                 city last_trip_date   phone signup_date  surge_pct  \\\n",
       "16880  King's Landing     2014-02-02  iPhone  2014-01-30        0.0   \n",
       "18337         Astapor     2014-06-29  iPhone  2014-01-10        8.3   \n",
       "11170         Astapor     2014-03-02  iPhone  2014-01-13        0.0   \n",
       "17714      Winterfell     2014-03-16  iPhone  2014-01-29        0.0   \n",
       "28539      Winterfell     2014-02-09  iPhone  2014-01-05        0.0   \n",
       "\n",
       "       trips_in_first_30_days  ultimate_black_user  weekday_pct  retained  \\\n",
       "16880                       2                    0         50.0     False   \n",
       "18337                       2                    0         75.0      True   \n",
       "11170                       0                    0          0.0     False   \n",
       "17714                       2                    0         66.7     False   \n",
       "28539                       0                    0          0.0     False   \n",
       "\n",
       "       sixth_month_active  Astapor  King's Landing  Winterfell  Android  \\\n",
       "16880                   0        0               1           0        0   \n",
       "18337                   1        1               0           0        0   \n",
       "11170                   0        1               0           0        0   \n",
       "17714                   0        0               0           1        0   \n",
       "28539                   0        0               0           1        0   \n",
       "\n",
       "       iPhone  \n",
       "16880       1  \n",
       "18337       1  \n",
       "11170       1  \n",
       "17714       1  \n",
       "28539       1  "
      ]
     },
     "execution_count": 13,
     "metadata": {},
     "output_type": "execute_result"
    }
   ],
   "source": [
    "# binarizing 'city' and 'phone' columns\n",
    "df_users_train = pd.concat([df_users_train, pd.get_dummies(df_users_train['city']), \n",
    "                            pd.get_dummies(df_users_train['phone'])], axis=1)\n",
    "\n",
    "# converting 'ultimate_black_user' and 'sixth_month_active' columns from bool to int\n",
    "df_users_train['ultimate_black_user'] = df_users_train['ultimate_black_user'].astype('uint8')\n",
    "df_users_train['sixth_month_active'] = df_users_train['sixth_month_active'].astype('uint8')\n",
    "\n",
    "df_users_train.head()"
   ]
  },
  {
   "cell_type": "code",
   "execution_count": 141,
   "metadata": {
    "scrolled": false
   },
   "outputs": [
    {
     "name": "stdout",
     "output_type": "stream",
     "text": [
      "Feature ranking:\n",
      "1. avg_dist (0.290748)\n",
      "2. weekday_pct (0.154598)\n",
      "3. trips_in_first_30_days (0.107209)\n",
      "4. avg_rating_by_driver (0.102734)\n",
      "5. avg_rating_of_driver (0.098568)\n",
      "6. surge_pct (0.088158)\n",
      "7. avg_surge (0.074776)\n",
      "8. ultimate_black_user (0.022475)\n",
      "9. King's Landing (0.020295)\n",
      "10. Android (0.013789)\n",
      "11. iPhone (0.013740)\n",
      "12. Astapor (0.008520)\n",
      "13. Winterfell (0.004387)\n"
     ]
    },
    {
     "data": {
      "image/png": "[encoded data removed]",
      "text/plain": [
       "<Figure size 1440x720 with 1 Axes>"
      ]
     },
     "metadata": {
      "needs_background": "light"
     },
     "output_type": "display_data"
    }
   ],
   "source": [
    "# imputing missing values with the mean using sklearn's SimpleImputer\n",
    "imp_mode = SimpleImputer(missing_values=np.nan, strategy='most_frequent')\n",
    "\n",
    "# selecting all features to compute importance\n",
    "features = df_users_train.iloc[:, [0,1,2,3,8,9,10,11,14,15,16,17,18]].columns\n",
    "X_train = df_users_train[features]\n",
    "\n",
    "# setting target variable\n",
    "y_train = df_users_train.loc[:,'sixth_month_active']\n",
    "\n",
    "\n",
    "# Build a forest and compute the feature importances\n",
    "forest = ExtraTreesClassifier(n_estimators=250,\n",
    "                              random_state=0)\n",
    "\n",
    "forest.fit(imp_mode.fit_transform(X_train), y_train)\n",
    "importances = forest.feature_importances_\n",
    "std = np.std([tree.feature_importances_ for tree in forest.estimators_],\n",
    "             axis=0)\n",
    "indices = np.argsort(importances)[::-1]\n",
    "features = [X_train.columns[index] for index in indices] #reordering features by importance\n",
    "sorted_importances = [importances[index] for index in indices]\n",
    "\n",
    "# Print the feature ranking\n",
    "print(\"Feature ranking:\")\n",
    "\n",
    "for f in range(X_train.shape[1]):\n",
    "    print(\"%d. %s (%f)\" % (f + 1, X_train.columns[indices[f]], importances[indices[f]]))\n",
    "\n",
    "# Plot the feature importances of the forest\n",
    "plt.figure(figsize=(20,10))\n",
    "plt.title(\"Feature importances\")\n",
    "plt.bar(range(X_train.shape[1]), importances[indices],\n",
    "       color=\"r\", yerr=std[indices], align=\"center\")\n",
    "plt.xticks(range(X_train.shape[1]), features)\n",
    "plt.xticks(rotation=90)\n",
    "plt.xlim([-1, X_train.shape[1]])\n",
    "plt.rc('xtick',labelsize=18)\n",
    "plt.rc('ytick',labelsize=12)\n",
    "plt.show()"
   ]
  },
  {
   "cell_type": "markdown",
   "metadata": {},
   "source": [
    "Now that we know the relative importances of the features, let's build our model see how it performs first selecting all features, and then removing some of the less important features. I generally like XGBoost for binary classification problems like this because it performs quite fast is in comparison to other tree ensemble methods like random forest, and is also good at reducing variance as well as bias. However, we'll also consider Logistic Regression for comparison. We'll perform 5-fold cross validation as well to prevent over fitting, and since this dataset is imbalanced we'll use balanced accuracy, the average of recall obtained on each class to evaluate and compare the models. "
   ]
  },
  {
   "cell_type": "code",
   "execution_count": 139,
   "metadata": {},
   "outputs": [],
   "source": [
    "# selecting features to train models\n",
    "X_train = df_users_train[features]\n",
    "\n",
    "# setting target variable\n",
    "y_train = df_users_train.loc[:,'sixth_month_active']\n",
    "\n",
    "\n",
    "# repeating pre-processing for the test data\n",
    "\n",
    "# one-hot encoding of 'fittype' feature\n",
    "df_users_test = pd.concat([df_users_test, pd.get_dummies(df_users_test['city']), \n",
    "                           pd.get_dummies(df_users_test['phone'])], axis=1)\n",
    "\n",
    "# converting 'ultimate_black_user' and 'sixth_month_active' columns from bool to int\n",
    "df_users_test['ultimate_black_user'] = df_users_test['ultimate_black_user'].astype('uint8')\n",
    "df_users_test['sixth_month_active'] = df_users_test['sixth_month_active'].astype('uint8')\n",
    "\n",
    "\n",
    "X_test = df_users_test[features]\n",
    "y_test = df_users_test.loc[:,'sixth_month_active']"
   ]
  },
  {
   "cell_type": "code",
   "execution_count": 18,
   "metadata": {},
   "outputs": [],
   "source": [
    "def return_time(seconds):\n",
    "    '''converts seconds to hours, minutes, and seconds'''\n",
    "    d = str(dt.timedelta(seconds=round(seconds)))\n",
    "    hours = d[:len(d)-6]\n",
    "    minutes = d[-5:-3]\n",
    "    seconds_left = d[-2:]\n",
    "    periods = [('hours', hours), ('minutes', minutes), ('seconds', seconds_left)]\n",
    "    time_string = ' '.join('{} {}'.format(value, name)\n",
    "                        for name, value in periods\n",
    "                        if int(value) != 0)\n",
    "    return time_string"
   ]
  },
  {
   "cell_type": "code",
   "execution_count": 23,
   "metadata": {},
   "outputs": [],
   "source": [
    "# create LogisticRegression model and pipeline\n",
    "logreg = LogisticRegression(solver='lbfgs', max_iter=10000, random_state=7)\n",
    "lr_steps = [('imputation', imp_mode), ('scaler', StandardScaler()), ('LR', logreg)]\n",
    "lr_pipeline = Pipeline(lr_steps)\n",
    "\n",
    "# paramater space to tune\n",
    "c_space = np.logspace(-5,8,15)\n",
    "lr_param_grid = {'LR__C': c_space}"
   ]
  },
  {
   "cell_type": "code",
   "execution_count": 42,
   "metadata": {},
   "outputs": [
    {
     "name": "stdout",
     "output_type": "stream",
     "text": [
      "5 fold cross validation results\n",
      "---------------------------------------------------------------------\n",
      "Logistic Regression took 23 seconds to fit.\n",
      "Mean average precision: 0.552\n",
      "Standard deviation: 0.002\n"
     ]
    }
   ],
   "source": [
    "start = time.time()\n",
    "# apply 5 fold cross validation with RandomizedSearchCV to find best hyper-paramters and fit model\n",
    "logreg_cv = RandomizedSearchCV(lr_pipeline, lr_param_grid, scoring='balanced_accuracy', cv=5, random_state=10)\n",
    "logreg_cv.fit(X_train, y_train)\n",
    "\n",
    "# print results\n",
    "print(\"5 fold cross validation results\")\n",
    "print(\"---------------------------------------------------------------------\")\n",
    "print(\"Logistic Regression took {} to fit.\".format(return_time(time.time() - start)))\n",
    "print(\"Mean balanced accuracy: {:.3f}\".format(np.mean(logreg_cv.cv_results_['mean_test_score'])))\n",
    "print(\"Standard deviation: {:.3f}\".format(np.mean(logreg_cv.cv_results_['std_test_score'])))"
   ]
  },
  {
   "cell_type": "markdown",
   "metadata": {},
   "source": [
    "Let's see how this compares with XGBoost."
   ]
  },
  {
   "cell_type": "code",
   "execution_count": 72,
   "metadata": {},
   "outputs": [],
   "source": [
    "xgb = XGBClassifier(subsample=0.8, objective= 'binary:logistic', nthread=4, scale_pos_weight=1, random_state=7)\n",
    "xgb_steps = [('imputation', imp_mode), ('scaler', StandardScaler()), ('XGB', xgb)]\n",
    "xgb_pipeline = Pipeline(xgb_steps)\n",
    "\n",
    "# paramater space to tune\n",
    "n_estimators = [int(x) for x in np.linspace(start = 200, stop = 2000, num = 10)]\n",
    "max_depth = [3, 4, 5, 6, 8, 10, 12, 15]\n",
    "learning_rate = [0.05, 0.10, 0.15, 0.20, 0.25, 0.30]\n",
    "min_child_weight = [1, 3, 5, 7]\n",
    "gamma = [0.0, 0.1, 0.2 , 0.3, 0.4]\n",
    "colsample_bytree = [0.3, 0.4, 0.5 , 0.7]\n",
    "\n",
    "xgb_param_grid = {'XGB__max_depth': max_depth, \n",
    "                  'XGB__learning_rate': learning_rate, \n",
    "                  'XGB__n_estimators': n_estimators, \n",
    "                  'XGB__gamma': gamma, \n",
    "                  'XGB__min_child_weight': min_child_weight, \n",
    "                  'XGB__colsample_bytree': colsample_bytree,\n",
    "}"
   ]
  },
  {
   "cell_type": "code",
   "execution_count": 91,
   "metadata": {},
   "outputs": [
    {
     "name": "stdout",
     "output_type": "stream",
     "text": [
      "5 fold cross validation results\n",
      "---------------------------------------------------------------------\n",
      "XGBoost took 17 minutes 20 seconds to fit.\n",
      "Mean balanced accuracy: 0.650\n",
      "Standard deviation: 0.004\n"
     ]
    }
   ],
   "source": [
    "start = time.time()\n",
    "# find best parameters and apply 5 fold cross validation with RandomizedSearchCV\n",
    "xgb_cv = RandomizedSearchCV(xgb_pipeline, xgb_param_grid, scoring='balanced_accuracy', cv=5, random_state=10)\n",
    "xgb_cv.fit(X_train, y_train)\n",
    "\n",
    "# print results\n",
    "print(\"5 fold cross validation results\")\n",
    "print(\"---------------------------------------------------------------------\")\n",
    "print(\"XGBoost took {} to fit.\".format(return_time(time.time() - start)))\n",
    "print(\"Mean balanced accuracy: {:.3f}\".format(np.mean(xgb_cv.cv_results_['mean_test_score'])))\n",
    "print(\"Standard deviation: {:.3f}\".format(np.mean(xgb_cv.cv_results_['std_test_score'])))"
   ]
  },
  {
   "cell_type": "markdown",
   "metadata": {},
   "source": [
    "Look's like XGBoost significantly outperforms Logistic Regression here so let's move forward using just XGBoost and see how it performs on smaller subsets of more important features. We'll remove the least important features one by one to see if the balanced accuracy improves and use the model with the highest mean 5 fold CV balanced accuracy to evaluate the model on the test data."
   ]
  },
  {
   "cell_type": "code",
   "execution_count": 73,
   "metadata": {},
   "outputs": [
    {
     "name": "stdout",
     "output_type": "stream",
     "text": [
      "5 fold cross validation results\n",
      "---------------------------------------------------------------------\n",
      "XGBoost took 14 minutes 19 seconds to fit.\n",
      "Mean balanced accuracy: 0.651\n",
      "Standard deviation: 0.004\n"
     ]
    }
   ],
   "source": [
    "start = time.time()\n",
    "# find best parameters and apply 5 fold cross validation with RandomizedSearchCV\n",
    "xgb_cv1 = RandomizedSearchCV(xgb_pipeline, xgb_param_grid, scoring='balanced_accuracy', cv=5, random_state=10)\n",
    "xgb_cv1.fit(X_train[features[:12]], y_train)\n",
    "\n",
    "# print results\n",
    "print(\"5 fold cross validation results\")\n",
    "print(\"---------------------------------------------------------------------\")\n",
    "print(\"XGBoost took {} to fit.\".format(return_time(time.time() - start)))\n",
    "print(\"Mean balanced accuracy: {:.3f}\".format(np.mean(xgb_cv1.cv_results_['mean_test_score'])))\n",
    "print(\"Standard deviation: {:.3f}\".format(np.mean(xgb_cv1.cv_results_['std_test_score'])))"
   ]
  },
  {
   "cell_type": "code",
   "execution_count": 45,
   "metadata": {},
   "outputs": [
    {
     "name": "stdout",
     "output_type": "stream",
     "text": [
      "5 fold cross validation results\n",
      "---------------------------------------------------------------------\n",
      "XGBoost took 19 minutes 10 seconds to fit.\n",
      "Mean balanced accuracy: 0.646\n",
      "Standard deviation: 0.004\n"
     ]
    }
   ],
   "source": [
    "start = time.time()\n",
    "# find best parameters and apply 5 fold cross validation with RandomizedSearchCV\n",
    "xgb_cv2 = RandomizedSearchCV(xgb_pipeline, xgb_param_grid, scoring='balanced_accuracy', cv=5, random_state=10)\n",
    "xgb_cv2.fit(X_train[features[:11]], y_train)\n",
    "\n",
    "# print results\n",
    "print(\"5 fold cross validation results\")\n",
    "print(\"---------------------------------------------------------------------\")\n",
    "print(\"XGBoost took {} to fit.\".format(return_time(time.time() - start)))\n",
    "print(\"Mean balanced accuracy: {:.3f}\".format(np.mean(xgb_cv2.cv_results_['mean_test_score'])))\n",
    "print(\"Standard deviation: {:.3f}\".format(np.mean(xgb_cv2.cv_results_['std_test_score'])))"
   ]
  },
  {
   "cell_type": "markdown",
   "metadata": {},
   "source": [
    "Looks like the last feature 'Winterfell', does not provide any useful information in predicting whether or not a user will be active in their sixth month, but all the other features (even the lesser important ones) do seem to help at least a little. Let's see how our final model (with the feature 'Winterfell' omitted) performs on the test data."
   ]
  },
  {
   "cell_type": "code",
   "execution_count": 61,
   "metadata": {},
   "outputs": [
    {
     "name": "stdout",
     "output_type": "stream",
     "text": [
      "Test set balanced accuracy: 0.659\n",
      "Confusion matrix, without normalization\n",
      "[[7226  540]\n",
      " [1367  867]]\n"
     ]
    },
    {
     "data": {
      "image/png": "[encoded data removed]",
      "text/plain": [
       "<Figure size 504x504 with 2 Axes>"
      ]
     },
     "metadata": {
      "needs_background": "light"
     },
     "output_type": "display_data"
    }
   ],
   "source": [
    "# function to plot confusion matrix\n",
    "def plot_confusion_matrix(cm, classes,\n",
    "                          normalize=False,\n",
    "                          title='Confusion matrix',\n",
    "                          cmap=plt.cm.Blues):\n",
    "    \"\"\"\n",
    "    This function prints and plots the confusion matrix.\n",
    "    Normalization can be applied by setting `normalize=True`.\n",
    "    \"\"\"\n",
    "    if normalize:\n",
    "        cm = cm.astype('float') / cm.sum(axis=1)[:, np.newaxis]\n",
    "        print(\"Normalized confusion matrix\")\n",
    "    else:\n",
    "        print('Confusion matrix, without normalization')\n",
    "\n",
    "    print(cm)\n",
    "    plt.figure(figsize=(7, 7))\n",
    "    plt.imshow(cm, interpolation='nearest', cmap=cmap)\n",
    "    plt.title(title)\n",
    "    plt.colorbar()\n",
    "    tick_marks = np.arange(len(classes))\n",
    "    plt.xticks(tick_marks, classes, rotation=45)\n",
    "    plt.yticks(tick_marks, classes)\n",
    "\n",
    "    fmt = '.2f' if normalize else 'd'\n",
    "    thresh = cm.max() / 2.\n",
    "    for i, j in itertools.product(range(cm.shape[0]), range(cm.shape[1])):\n",
    "        plt.text(j, i, format(cm[i, j], fmt),\n",
    "                 horizontalalignment=\"center\",\n",
    "                 color=\"white\" if cm[i, j] > thresh else \"black\")\n",
    "\n",
    "    plt.grid(False)\n",
    "    plt.tight_layout()\n",
    "    plt.ylabel('True label')\n",
    "    plt.xlabel('Predicted label')\n",
    "    \n",
    "y_pred = xgb_cv1.predict(X_test[features[:12]])\n",
    "classes = ['False', 'True']\n",
    "\n",
    "print('Test set balanced accuracy: {:.3f}'.format(balanced_accuracy_score(y_test, y_pred)))\n",
    "cnf_matrix = confusion_matrix(y_test, y_pred, labels=[0,1])\n",
    "plot_confusion_matrix(cnf_matrix, classes=classes,\n",
    "                      normalize= False,  title='\"Sixth Month Active\" XGBoost Confusion Matrix \\n (Test Data)')    "
   ]
  },
  {
   "cell_type": "markdown",
   "metadata": {},
   "source": []
  },
  {
   "cell_type": "markdown",
   "metadata": {},
   "source": [
    "###### 3. Briefly discuss how Ultimate might leverage the insights gained from the model to improve its long-term rider retention (again, a few sentences will suffice)."
   ]
  },
  {
   "cell_type": "markdown",
   "metadata": {},
   "source": [
    "Looks like the test accuracy at 66% is slightly better than the cross validated score. The confusion matrix above shows that the model is a bit better at predicting users who will not be active in their sixth month, so it might be better to focus on those users and provide incentives to encourage them to use the service more.\n",
    "\n",
    "The feature importances classified by the ExtraTreesClassifier suggest that the top 3 most important features in predicting users who are active on their sixth month after sign up are:\n",
    "\n",
    "    - avg_dist: Average distance in miles per trip taken in the first 30 days after signup\n",
    "    - weekday_pct: the percent of the user’s trips occurring during a weekday\n",
    "    - trips_in_first_30_days: the number of trips this user took in the first 30 days after signing up\n",
    "\n",
    "Let's take a look at these features a little closer by plotting histograms of both sixth month active users and non sixth month active users."
   ]
  },
  {
   "cell_type": "code",
   "execution_count": 168,
   "metadata": {},
   "outputs": [],
   "source": [
    "def plot_hists(df, target_var, column, ylabel, c_bins=50, f_bins= 50, logy=False, f_scale='linear'):\n",
    "    '''Plots a histogram for each disposition (confirmed (c)/false positive (f)) of a given dataframe and column.'''\n",
    "    fig = plt.figure() # create figure\n",
    "    # plt.subplots\n",
    "    axc = fig.add_subplot(1, 2, 1) # add subplot 1 (1 row, 2 columns, first plot)\n",
    "    axf = fig.add_subplot(1, 2, 2)\n",
    "\n",
    "    df[df[target_var] == df[target_var].unique()[0]][column].plot(kind='hist', logy=logy, bins=c_bins, ax=axc, \n",
    "                                                         figsize=(20,6), ec='black')\n",
    "    \n",
    "    axc.set_title(target_var + ' = ' + 'False')\n",
    "    axc.set_xlabel(column)\n",
    "    axc.set_ylabel(ylabel)\n",
    "    \n",
    "\n",
    "    df[df[target_var] == df[target_var].unique()[1]][column].plot(kind='hist', logy=logy, bins=f_bins, ax=axf, \n",
    "                                                              figsize=(20,6), ec='black')\n",
    "    \n",
    "    axf.set_xscale(f_scale)\n",
    "    axf.set_title(target_var + ' = ' + 'True')\n",
    "    axf.set_xlabel(column)\n",
    "    axf.set_ylabel(ylabel)"
   ]
  },
  {
   "cell_type": "code",
   "execution_count": 169,
   "metadata": {},
   "outputs": [
    {
     "data": {
      "image/png": "[encoded data removed]",
      "text/plain": [
       "<Figure size 1440x432 with 2 Axes>"
      ]
     },
     "metadata": {
      "needs_background": "light"
     },
     "output_type": "display_data"
    },
    {
     "data": {
      "image/png": "[encoded data removed]",
      "text/plain": [
       "<Figure size 1440x432 with 2 Axes>"
      ]
     },
     "metadata": {
      "needs_background": "light"
     },
     "output_type": "display_data"
    },
    {
     "data": {
      "image/png": "[encoded data removed]",
      "text/plain": [
       "<Figure size 1440x432 with 2 Axes>"
      ]
     },
     "metadata": {
      "needs_background": "light"
     },
     "output_type": "display_data"
    }
   ],
   "source": [
    "for feature in features[:3]:\n",
    "    plot_hists(df_users_train, 'sixth_month_active', feature, ylabel= 'Number of Users')"
   ]
  },
  {
   "cell_type": "code",
   "execution_count": 175,
   "metadata": {},
   "outputs": [
    {
     "name": "stdout",
     "output_type": "stream",
     "text": [
      "Mean avg_dist of non sixth month active users: 6.07\n",
      "Mean avg_dist of sixth month active users: 4.82\n"
     ]
    }
   ],
   "source": [
    "mean_dista = df_users_train[df_users_train['sixth_month_active'] == False]['avg_dist'].mean()\n",
    "print('Mean avg_dist of non sixth month active users: {:.2f}'.format(mean_dista))\n",
    "      \n",
    "mean_distb = df_users_train[df_users_train['sixth_month_active'] == True]['avg_dist'].mean()\n",
    "print('Mean avg_dist of sixth month active users: {:.2f}'.format(mean_distb))"
   ]
  },
  {
   "cell_type": "code",
   "execution_count": 176,
   "metadata": {},
   "outputs": [
    {
     "name": "stdout",
     "output_type": "stream",
     "text": [
      "Mean trips_in_first_30_days of non sixth month active users: 1.87\n",
      "Mean trips_in_first_30_days of sixth month active users: 3.69\n"
     ]
    }
   ],
   "source": [
    "tripsa = df_users_train[df_users_train['sixth_month_active'] == False]['trips_in_first_30_days'].mean()\n",
    "print('Mean trips_in_first_30_days of non sixth month active users: {:.2f}'.format(tripsa))\n",
    "      \n",
    "tripsb = df_users_train[df_users_train['sixth_month_active'] == True]['trips_in_first_30_days'].mean()\n",
    "print('Mean trips_in_first_30_days of sixth month active users: {:.2f}'.format(tripsb))"
   ]
  },
  {
   "cell_type": "code",
   "execution_count": 177,
   "metadata": {},
   "outputs": [
    {
     "name": "stdout",
     "output_type": "stream",
     "text": [
      "Mean weekday_pct of non sixth month active users: 61.07\n",
      "Mean weekday_pct of sixth month active users: 60.92\n"
     ]
    }
   ],
   "source": [
    "weekdaya = df_users_train[df_users_train['sixth_month_active'] == False]['weekday_pct'].mean()\n",
    "print('Mean weekday_pct of non sixth month active users: {:.2f}'.format(weekdaya))\n",
    "      \n",
    "weekdayb = df_users_train[df_users_train['sixth_month_active'] == True]['weekday_pct'].mean()\n",
    "print('Mean weekday_pct of sixth month active users: {:.2f}'.format(weekdayb))"
   ]
  },
  {
   "cell_type": "markdown",
   "metadata": {},
   "source": [
    "Looks like the average distance in miles per trip taken in the first 30 days after signing up is a little higher for non sixth month active users, while the number of trips the non sixth month active users took in the first 30 days after signing up is lower. Therefore one way to maybe leverage this insight is to encourage riders to take shorter trips in their first 30 days by offering discounted rides if they are below a certain distance. In addition, encouraging riders in their first 30 days of signing up to take more trips by offering discounts may also make them become a long term user. Regardless it seems like the first 30 days experience for riders is important for whether or not they stay active after six months so it's important to make sure the first 30 days experience enjoyable for them if they are to stick around long term. Looks like the mean weekday_pct of both types of users is pretty close, as well as the distribution, so this might not be as useful of a feature to pull intuitive insights from."
   ]
  }
 ],
 "metadata": {
  "kernelspec": {
   "display_name": "Python 3",
   "language": "python",
   "name": "python3"
  },
  "language_info": {
   "codemirror_mode": {
    "name": "ipython",
    "version": 3
   },
   "file_extension": ".py",
   "mimetype": "text/x-python",
   "name": "python",
   "nbconvert_exporter": "python",
   "pygments_lexer": "ipython3",
   "version": "3.6.7"
  }
 },
 "nbformat": 4,
 "nbformat_minor": 2
}
