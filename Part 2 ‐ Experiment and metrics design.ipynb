{
 "cells": [
  {
   "cell_type": "markdown",
   "metadata": {},
   "source": [
    "# Part 2 ‐ Experiment and metrics design\n",
    "\n",
    "The neighboring cities of Gotham and Metropolis have complementary circadian rhythms: on weekdays, Ultimate Gotham is most active at night, and Ultimate Metropolis is most active during the day. On weekends, there is reasonable activity in both cities. However, a toll bridge, with a two-way toll, between the two cities causes driver partners to tend to be exclusive to each city. The Ultimate managers of city operations for the two cities have proposed an experiment to encourage driver partners to be available in both cities, by reimbursing all toll costs.\n",
    "\n",
    "1. What would you choose as the key measure of success of this experiment in encouraging driver partners to serve both cities, and why would you choose this metric?\n",
    "\n",
    "2. Describe a practical experiment you would design to compare the effectiveness of the proposed change in relation to the key measure of success. Please provide details on:\n",
    "    - a. how you will implement the experiment\n",
    "    - b. what statistical test(s) you will conduct to verify the significance of the observation\n",
    "    - c. how you would interpret the results and provide recommendations to the city operations team along with any caveats."
   ]
  },
  {
   "cell_type": "markdown",
   "metadata": {},
   "source": [
    "## My solution\n",
    "\n",
    "The metric/test statistic I would choose for this experiment would be the average ratio, $r_{avg}$ of trips drivers have made in the city  Ultimate Gotham to the number of trips made in Ultimate Metropolis. I would choose this metric because it's a direct measure of how available the drivers are in both cities. The closer this ratio is to 0.5 the more equally available the driver is to both cities\n",
    "\n",
    "To implement the experiment and test the initiative of reimbursing all toll costs to encourage driver partners to be available in both cities, I would collect data for $T$ number of total trips made both before and after the start of the initiative, and perform an A/B Hypothesis Test. My null hypothesis for the test would be that the metric/test statistic $r$ is not affected by the initiative of reimbursing all toll costs, and the total number of trips, $T$ to collect (and therefore time to run the experiment) would be determined based on the following factors:\n",
    "\n",
    "    - The current conversion rate of $r_{avg}$ or current ratio of number of trips drivers have made in the city Ultimate Gotham to the number of trips made in Ultimate Metropolis\n",
    "    - The minimum detectable fraction of change in conversion rate that Ultimate Technologies Inc. would like to be able to see\n",
    "    - Time constraints of the experiment\n",
    "    - Daily average number of total trips.\n",
    "    - A statistical significance level of .95\n",
    "\n",
    "Using the data obtained I would first compute the observed value of the test statistic, then I would re-simulate the experiment 10,000 times by computing 10,000 permutation replicates of the the test statistic using permutation samples of the original data. Finally I would calculate the p-value of our hypothesis test by calculating the fraction of permutation replicates that are greater than or equal to the observed test statistic. If the p-value is below 0.05 I would conclude that we can reject the null hypothesis (ie: there is a significant statistical difference in the availability of drivers in both cities), and that the initiative is successful! If the p-value is above that number I would conclude that we cannot reject the null hypothesis (ie: there is not a significant statistical difference in the availability of drivers in both cities), and that the initiative is unsuccessful. \n",
    "\n",
    "However, there are two caveats. First, is that with a .95 confidence level there is a 5% risk that we are incorrect with the results of our test, and second, statistical significance does not necessarily mean practical significance. For example, If there are not that many driver partners to begin with to benefit from the initiative, it may not be worth the money spent by Ultimate Technologies Inc. to have the initiative. The second caveat may affect profits in times of high demand, when there are not that many drivers on the road for reasons such as bad weather, construction on the bridge, etc.\n",
    "\n",
    "Generally, with a p-value below 0.05 I would recommend to keep the initiative so long as the cost for Ultimate Technologies Inc. to implement it is less than the return on profits for trips made from the same drivers in both cities. However, to provide a solid recommendation I would want to know more about the details of the initiative, daily average of trans-city trips and total trips, the company's risk tolerance, etc."
   ]
  },
  {
   "cell_type": "code",
   "execution_count": null,
   "metadata": {},
   "outputs": [],
   "source": []
  }
 ],
 "metadata": {
  "kernelspec": {
   "display_name": "Python 3",
   "language": "python",
   "name": "python3"
  },
  "language_info": {
   "codemirror_mode": {
    "name": "ipython",
    "version": 3
   },
   "file_extension": ".py",
   "mimetype": "text/x-python",
   "name": "python",
   "nbconvert_exporter": "python",
   "pygments_lexer": "ipython3",
   "version": "3.6.7"
  }
 },
 "nbformat": 4,
 "nbformat_minor": 2
}
